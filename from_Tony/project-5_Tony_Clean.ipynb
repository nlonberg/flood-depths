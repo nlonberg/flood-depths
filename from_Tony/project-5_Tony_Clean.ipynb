{
 "cells": [
  {
   "cell_type": "markdown",
   "metadata": {},
   "source": [
    "##### INSTALLED"
   ]
  },
  {
   "cell_type": "code",
   "execution_count": 2,
   "metadata": {},
   "outputs": [],
   "source": [
    "# pip install --upgrade google-cloud-vision"
   ]
  },
  {
   "cell_type": "markdown",
   "metadata": {},
   "source": [
    "### Step 1 - import libraries"
   ]
  },
  {
   "cell_type": "code",
   "execution_count": 149,
   "metadata": {},
   "outputs": [],
   "source": [
    "import numpy as np\n",
    "import pandas as pd\n",
    "import matplotlib.pyplot as plt\n",
    "import seaborn as sns\n",
    "\n",
    "import io\n",
    "import os\n",
    "\n",
    "# Imports the Google Cloud client library\n",
    "from google.cloud import vision\n",
    "from google.cloud.vision import types\n",
    "\n",
    "from sklearn.pipeline import Pipeline\n",
    "from sklearn.preprocessing import OneHotEncoder\n",
    "from sklearn.feature_extraction.text import CountVectorizer\n",
    "from sklearn.model_selection import train_test_split, cross_val_score, GridSearchCV\n",
    "from sklearn.linear_model import LogisticRegression\n",
    "from sklearn.naive_bayes import MultinomialNB, GaussianNB\n",
    "from sklearn.svm import LinearSVC\n",
    "from sklearn.ensemble import VotingClassifier\n",
    "from sklearn.metrics import confusion_matrix, plot_confusion_matrix"
   ]
  },
  {
   "cell_type": "code",
   "execution_count": 92,
   "metadata": {},
   "outputs": [],
   "source": [
    "# Code Reference From: https://github.com/googleapis/google-cloud-python/issues/5349\n",
    "# need this in order to access API - enter your JSON file in the path after you have created your service account\n",
    "\n",
    "from google.oauth2 import service_account\n",
    "credentials = service_account.Credentials. from_service_account_file(\"./flood-car-classifier-3de49495f20b.json\")"
   ]
  },
  {
   "cell_type": "markdown",
   "metadata": {},
   "source": [
    "### Step 2 - Read in image directories as lists"
   ]
  },
  {
   "cell_type": "code",
   "execution_count": 78,
   "metadata": {},
   "outputs": [],
   "source": [
    "flood = []\n",
    "for i in os.listdir('data/images_for_labeling/flood'):\n",
    "    if i == '.DS_Store' or i == '.ipynb_checkpoints':\n",
    "        pass\n",
    "    else:\n",
    "        flood.append(i)\n",
    "        \n",
    "noflood = []\n",
    "for i in os.listdir('data/images_for_labeling/no_flood'):\n",
    "    if i == '.DS_Store' or i == '.ipynb_checkpoints':\n",
    "        pass\n",
    "    else:\n",
    "        noflood.append(i)"
   ]
  },
  {
   "cell_type": "markdown",
   "metadata": {},
   "source": [
    "### Step 3 - Create function to detect labels and return 10 words which best describe the pictures from the flood and no_flood lists created in step 2"
   ]
  },
  {
   "cell_type": "code",
   "execution_count": 162,
   "metadata": {},
   "outputs": [],
   "source": [
    "# formula inspired by https://cloud.google.com/vision/docs/labels\n",
    "\n",
    "# enter_list_name - list must be named exactly as it is in filepath for function to work\n",
    "\n",
    "def image_labeler(enter_list_name, flood_or_noflood_string):\n",
    "    \n",
    "    # Create dictionary for image filename & image labels\n",
    "    image_dict = {}\n",
    "    \n",
    "    for file in enter_list_name:\n",
    "    \n",
    "        # Instantiates a client\n",
    "        client = vision.ImageAnnotatorClient(credentials=credentials)\n",
    "\n",
    "        # The name of the image file to annotate\n",
    "        file_name = os.path.abspath('./data/images_for_labeling/' + flood_or_noflood_string + '/' + file)\n",
    "\n",
    "        # Loads the image into memory\n",
    "        with io.open(file_name, 'rb') as image_file:\n",
    "            content = image_file.read()\n",
    "\n",
    "        image = types.Image(content=content)\n",
    "\n",
    "        # Performs label detection on the image file\n",
    "        response = client.label_detection(image=image)\n",
    "        labels = response.label_annotations\n",
    "        \n",
    "        # Create list of image labels\n",
    "        image_list = []\n",
    "        \n",
    "        # Loop through each images assigned labels\n",
    "        for label in labels:\n",
    "            image_list.append(label.description)\n",
    "        \n",
    "        # Add image filename & labels to dictionary\n",
    "        image_dict[flood_or_noflood_string + '__' +file] = image_list\n",
    "        \n",
    "        # Create DF from results\n",
    "        image_df = pd.DataFrame(image_dict.items(), columns=['filename', 'labels'])\n",
    "        image_df['flood_in_image'] = str(enter_list_name)\n",
    "        \n",
    "        # Create Y target Column\n",
    "        if flood_or_noflood_string == 'flood':\n",
    "            image_df['flood_in_image'] = 1\n",
    "        elif flood_or_noflood_string == 'noflood':\n",
    "            image_df['flood_in_image'] = 0\n",
    "        \n",
    "        # Prepare X column for pre-processing\n",
    "        image_df['labels'] = image_df['labels'].apply(lambda x: \", \".join(x).lower())\n",
    "        \n",
    "    return image_df"
   ]
  },
  {
   "cell_type": "code",
   "execution_count": 163,
   "metadata": {},
   "outputs": [
    {
     "data": {
      "text/html": [
       "<div>\n",
       "<style scoped>\n",
       "    .dataframe tbody tr th:only-of-type {\n",
       "        vertical-align: middle;\n",
       "    }\n",
       "\n",
       "    .dataframe tbody tr th {\n",
       "        vertical-align: top;\n",
       "    }\n",
       "\n",
       "    .dataframe thead th {\n",
       "        text-align: right;\n",
       "    }\n",
       "</style>\n",
       "<table border=\"1\" class=\"dataframe\">\n",
       "  <thead>\n",
       "    <tr style=\"text-align: right;\">\n",
       "      <th></th>\n",
       "      <th>filename</th>\n",
       "      <th>labels</th>\n",
       "      <th>flood_in_image</th>\n",
       "    </tr>\n",
       "  </thead>\n",
       "  <tbody>\n",
       "    <tr>\n",
       "      <th>0</th>\n",
       "      <td>flood__flood_64.jpg</td>\n",
       "      <td>land vehicle, vehicle, car, city car, compact ...</td>\n",
       "      <td>1</td>\n",
       "    </tr>\n",
       "    <tr>\n",
       "      <th>1</th>\n",
       "      <td>flood__flood_70.jpg</td>\n",
       "      <td>water, vehicle, reflection, rain, car, puddle,...</td>\n",
       "      <td>1</td>\n",
       "    </tr>\n",
       "    <tr>\n",
       "      <th>2</th>\n",
       "      <td>flood__flood_58.jpg</td>\n",
       "      <td>land vehicle, vehicle, car, automotive design,...</td>\n",
       "      <td>1</td>\n",
       "    </tr>\n",
       "    <tr>\n",
       "      <th>3</th>\n",
       "      <td>flood__flood_103.jpg</td>\n",
       "      <td>vehicle, car, compact car, supermini, crossove...</td>\n",
       "      <td>1</td>\n",
       "    </tr>\n",
       "    <tr>\n",
       "      <th>4</th>\n",
       "      <td>flood__flood_117.jpg</td>\n",
       "      <td>vehicle, car, waterway, flood, water resources...</td>\n",
       "      <td>1</td>\n",
       "    </tr>\n",
       "  </tbody>\n",
       "</table>\n",
       "</div>"
      ],
      "text/plain": [
       "               filename                                             labels  \\\n",
       "0   flood__flood_64.jpg  land vehicle, vehicle, car, city car, compact ...   \n",
       "1   flood__flood_70.jpg  water, vehicle, reflection, rain, car, puddle,...   \n",
       "2   flood__flood_58.jpg  land vehicle, vehicle, car, automotive design,...   \n",
       "3  flood__flood_103.jpg  vehicle, car, compact car, supermini, crossove...   \n",
       "4  flood__flood_117.jpg  vehicle, car, waterway, flood, water resources...   \n",
       "\n",
       "   flood_in_image  \n",
       "0               1  \n",
       "1               1  \n",
       "2               1  \n",
       "3               1  \n",
       "4               1  "
      ]
     },
     "execution_count": 163,
     "metadata": {},
     "output_type": "execute_result"
    }
   ],
   "source": [
    "flood_df = image_labeler(flood, 'flood')\n",
    "flood_df.head()"
   ]
  },
  {
   "cell_type": "code",
   "execution_count": 164,
   "metadata": {},
   "outputs": [
    {
     "data": {
      "text/html": [
       "<div>\n",
       "<style scoped>\n",
       "    .dataframe tbody tr th:only-of-type {\n",
       "        vertical-align: middle;\n",
       "    }\n",
       "\n",
       "    .dataframe tbody tr th {\n",
       "        vertical-align: top;\n",
       "    }\n",
       "\n",
       "    .dataframe thead th {\n",
       "        text-align: right;\n",
       "    }\n",
       "</style>\n",
       "<table border=\"1\" class=\"dataframe\">\n",
       "  <thead>\n",
       "    <tr style=\"text-align: right;\">\n",
       "      <th></th>\n",
       "      <th>filename</th>\n",
       "      <th>labels</th>\n",
       "      <th>flood_in_image</th>\n",
       "    </tr>\n",
       "  </thead>\n",
       "  <tbody>\n",
       "    <tr>\n",
       "      <th>0</th>\n",
       "      <td>noflood__no_flood_94.jpg</td>\n",
       "      <td>land vehicle, vehicle, car, luxury vehicle, au...</td>\n",
       "      <td>0</td>\n",
       "    </tr>\n",
       "    <tr>\n",
       "      <th>1</th>\n",
       "      <td>noflood__no_flood_102.jpg</td>\n",
       "      <td>land vehicle, vehicle, car, motor vehicle, aut...</td>\n",
       "      <td>0</td>\n",
       "    </tr>\n",
       "    <tr>\n",
       "      <th>2</th>\n",
       "      <td>noflood__no_flood_80.jpg</td>\n",
       "      <td>land vehicle, vehicle, car, motor vehicle, min...</td>\n",
       "      <td>0</td>\n",
       "    </tr>\n",
       "    <tr>\n",
       "      <th>3</th>\n",
       "      <td>noflood__no_flood_57.jpg</td>\n",
       "      <td>land vehicle, vehicle, car, motor vehicle, aut...</td>\n",
       "      <td>0</td>\n",
       "    </tr>\n",
       "    <tr>\n",
       "      <th>4</th>\n",
       "      <td>noflood__no_flood_43.jpg</td>\n",
       "      <td>land vehicle, vehicle, tire, car, automotive t...</td>\n",
       "      <td>0</td>\n",
       "    </tr>\n",
       "  </tbody>\n",
       "</table>\n",
       "</div>"
      ],
      "text/plain": [
       "                    filename  \\\n",
       "0   noflood__no_flood_94.jpg   \n",
       "1  noflood__no_flood_102.jpg   \n",
       "2   noflood__no_flood_80.jpg   \n",
       "3   noflood__no_flood_57.jpg   \n",
       "4   noflood__no_flood_43.jpg   \n",
       "\n",
       "                                              labels  flood_in_image  \n",
       "0  land vehicle, vehicle, car, luxury vehicle, au...               0  \n",
       "1  land vehicle, vehicle, car, motor vehicle, aut...               0  \n",
       "2  land vehicle, vehicle, car, motor vehicle, min...               0  \n",
       "3  land vehicle, vehicle, car, motor vehicle, aut...               0  \n",
       "4  land vehicle, vehicle, tire, car, automotive t...               0  "
      ]
     },
     "execution_count": 164,
     "metadata": {},
     "output_type": "execute_result"
    }
   ],
   "source": [
    "noflood_df = image_labeler(noflood, 'noflood')\n",
    "noflood_df.head()"
   ]
  },
  {
   "cell_type": "markdown",
   "metadata": {},
   "source": [
    "### Step 4 - Combine Flood & No Flood DFs into one dataframe"
   ]
  },
  {
   "cell_type": "code",
   "execution_count": 165,
   "metadata": {},
   "outputs": [],
   "source": [
    "def combine_df(dataframe1, dataframe2):\n",
    "    df = pd.concat([dataframe1, dataframe2], axis=0).reset_index().drop(columns='index')\n",
    "    return df"
   ]
  },
  {
   "cell_type": "code",
   "execution_count": 166,
   "metadata": {},
   "outputs": [
    {
     "name": "stdout",
     "output_type": "stream",
     "text": [
      "(229, 3)\n"
     ]
    },
    {
     "data": {
      "text/html": [
       "<div>\n",
       "<style scoped>\n",
       "    .dataframe tbody tr th:only-of-type {\n",
       "        vertical-align: middle;\n",
       "    }\n",
       "\n",
       "    .dataframe tbody tr th {\n",
       "        vertical-align: top;\n",
       "    }\n",
       "\n",
       "    .dataframe thead th {\n",
       "        text-align: right;\n",
       "    }\n",
       "</style>\n",
       "<table border=\"1\" class=\"dataframe\">\n",
       "  <thead>\n",
       "    <tr style=\"text-align: right;\">\n",
       "      <th></th>\n",
       "      <th>filename</th>\n",
       "      <th>labels</th>\n",
       "      <th>flood_in_image</th>\n",
       "    </tr>\n",
       "  </thead>\n",
       "  <tbody>\n",
       "    <tr>\n",
       "      <th>0</th>\n",
       "      <td>flood__flood_64.jpg</td>\n",
       "      <td>land vehicle, vehicle, car, city car, compact ...</td>\n",
       "      <td>1</td>\n",
       "    </tr>\n",
       "    <tr>\n",
       "      <th>1</th>\n",
       "      <td>flood__flood_70.jpg</td>\n",
       "      <td>water, vehicle, reflection, rain, car, puddle,...</td>\n",
       "      <td>1</td>\n",
       "    </tr>\n",
       "    <tr>\n",
       "      <th>2</th>\n",
       "      <td>flood__flood_58.jpg</td>\n",
       "      <td>land vehicle, vehicle, car, automotive design,...</td>\n",
       "      <td>1</td>\n",
       "    </tr>\n",
       "    <tr>\n",
       "      <th>3</th>\n",
       "      <td>flood__flood_103.jpg</td>\n",
       "      <td>vehicle, car, compact car, supermini, crossove...</td>\n",
       "      <td>1</td>\n",
       "    </tr>\n",
       "    <tr>\n",
       "      <th>4</th>\n",
       "      <td>flood__flood_117.jpg</td>\n",
       "      <td>vehicle, car, waterway, flood, water resources...</td>\n",
       "      <td>1</td>\n",
       "    </tr>\n",
       "  </tbody>\n",
       "</table>\n",
       "</div>"
      ],
      "text/plain": [
       "               filename                                             labels  \\\n",
       "0   flood__flood_64.jpg  land vehicle, vehicle, car, city car, compact ...   \n",
       "1   flood__flood_70.jpg  water, vehicle, reflection, rain, car, puddle,...   \n",
       "2   flood__flood_58.jpg  land vehicle, vehicle, car, automotive design,...   \n",
       "3  flood__flood_103.jpg  vehicle, car, compact car, supermini, crossove...   \n",
       "4  flood__flood_117.jpg  vehicle, car, waterway, flood, water resources...   \n",
       "\n",
       "   flood_in_image  \n",
       "0               1  \n",
       "1               1  \n",
       "2               1  \n",
       "3               1  \n",
       "4               1  "
      ]
     },
     "execution_count": 166,
     "metadata": {},
     "output_type": "execute_result"
    }
   ],
   "source": [
    "df = combine_df(flood_df, noflood_df)\n",
    "print(df.shape)\n",
    "df.head()"
   ]
  },
  {
   "cell_type": "code",
   "execution_count": 168,
   "metadata": {},
   "outputs": [
    {
     "name": "stdout",
     "output_type": "stream",
     "text": [
      "(229, 3)\n"
     ]
    },
    {
     "data": {
      "text/html": [
       "<div>\n",
       "<style scoped>\n",
       "    .dataframe tbody tr th:only-of-type {\n",
       "        vertical-align: middle;\n",
       "    }\n",
       "\n",
       "    .dataframe tbody tr th {\n",
       "        vertical-align: top;\n",
       "    }\n",
       "\n",
       "    .dataframe thead th {\n",
       "        text-align: right;\n",
       "    }\n",
       "</style>\n",
       "<table border=\"1\" class=\"dataframe\">\n",
       "  <thead>\n",
       "    <tr style=\"text-align: right;\">\n",
       "      <th></th>\n",
       "      <th>filename</th>\n",
       "      <th>labels</th>\n",
       "      <th>flood_in_image</th>\n",
       "    </tr>\n",
       "  </thead>\n",
       "  <tbody>\n",
       "    <tr>\n",
       "      <th>0</th>\n",
       "      <td>flood__flood_64.jpg</td>\n",
       "      <td>land vehicle, vehicle, car, city car, compact ...</td>\n",
       "      <td>1</td>\n",
       "    </tr>\n",
       "    <tr>\n",
       "      <th>1</th>\n",
       "      <td>flood__flood_70.jpg</td>\n",
       "      <td>water, vehicle, reflection, rain, car, puddle,...</td>\n",
       "      <td>1</td>\n",
       "    </tr>\n",
       "    <tr>\n",
       "      <th>2</th>\n",
       "      <td>flood__flood_58.jpg</td>\n",
       "      <td>land vehicle, vehicle, car, automotive design,...</td>\n",
       "      <td>1</td>\n",
       "    </tr>\n",
       "    <tr>\n",
       "      <th>3</th>\n",
       "      <td>flood__flood_103.jpg</td>\n",
       "      <td>vehicle, car, compact car, supermini, crossove...</td>\n",
       "      <td>1</td>\n",
       "    </tr>\n",
       "    <tr>\n",
       "      <th>4</th>\n",
       "      <td>flood__flood_117.jpg</td>\n",
       "      <td>vehicle, car, waterway, flood, water resources...</td>\n",
       "      <td>1</td>\n",
       "    </tr>\n",
       "  </tbody>\n",
       "</table>\n",
       "</div>"
      ],
      "text/plain": [
       "               filename                                             labels  \\\n",
       "0   flood__flood_64.jpg  land vehicle, vehicle, car, city car, compact ...   \n",
       "1   flood__flood_70.jpg  water, vehicle, reflection, rain, car, puddle,...   \n",
       "2   flood__flood_58.jpg  land vehicle, vehicle, car, automotive design,...   \n",
       "3  flood__flood_103.jpg  vehicle, car, compact car, supermini, crossove...   \n",
       "4  flood__flood_117.jpg  vehicle, car, waterway, flood, water resources...   \n",
       "\n",
       "   flood_in_image  \n",
       "0               1  \n",
       "1               1  \n",
       "2               1  \n",
       "3               1  \n",
       "4               1  "
      ]
     },
     "execution_count": 168,
     "metadata": {},
     "output_type": "execute_result"
    }
   ],
   "source": [
    "df.to_csv('./data/step_1_data.csv')\n",
    "print(df.shape)\n",
    "df.head()"
   ]
  },
  {
   "cell_type": "markdown",
   "metadata": {},
   "source": [
    "### Which Model Should I Use?\n",
    "<img src=\"https://scikit-learn.org/stable/_static/ml_map.png\">"
   ]
  },
  {
   "cell_type": "code",
   "execution_count": 169,
   "metadata": {},
   "outputs": [],
   "source": [
    "X = df.labels\n",
    "y = df.flood_in_image"
   ]
  },
  {
   "cell_type": "code",
   "execution_count": 170,
   "metadata": {},
   "outputs": [],
   "source": [
    "X_train, X_test, y_train, y_test = train_test_split(X, y, stratify=y, random_state=2020)"
   ]
  },
  {
   "cell_type": "code",
   "execution_count": 171,
   "metadata": {},
   "outputs": [],
   "source": [
    "cvec = CountVectorizer()\n",
    "Z_train = cvec.fit_transform(X_train)\n",
    "Z_test = cvec.transform(X_test)"
   ]
  },
  {
   "cell_type": "code",
   "execution_count": 172,
   "metadata": {},
   "outputs": [
    {
     "name": "stdout",
     "output_type": "stream",
     "text": [
      "Cross Validation Score: 0.8769747899159663\n",
      "Training Score: 0.9707602339181286\n",
      "Testing Score: 0.8103448275862069\n"
     ]
    }
   ],
   "source": [
    "# Logistic Regression\n",
    "logreg = LogisticRegression()\n",
    "logreg.fit(Z_train, y_train)\n",
    "\n",
    "# This is how we evaluate model performance\n",
    "print(f'Cross Validation Score: {cross_val_score(LogisticRegression(), Z_train, y_train, cv=5).mean()}')\n",
    "\n",
    "print(f'Training Score: {logreg.score(Z_train, y_train)}')\n",
    "print(f'Testing Score: {logreg.score(Z_test, y_test)}')"
   ]
  },
  {
   "cell_type": "code",
   "execution_count": 138,
   "metadata": {},
   "outputs": [
    {
     "name": "stdout",
     "output_type": "stream",
     "text": [
      "Cross Validation Score: 0.8539495798319328\n",
      "Training Score: 1.0\n",
      "Testing Score: 0.7586206896551724\n"
     ]
    }
   ],
   "source": [
    "# LinearSVC\n",
    "svc = LinearSVC()\n",
    "svc.fit(Z_train, y_train)\n",
    "\n",
    "# This is how we evaluate model performance\n",
    "print(f'Cross Validation Score: {cross_val_score(LinearSVC(), Z_train, y_train, cv=5).mean()}')\n",
    "\n",
    "print(f'Training Score: {svc.score(Z_train, y_train)}')\n",
    "print(f'Testing Score: {svc.score(Z_test, y_test)}')"
   ]
  },
  {
   "cell_type": "code",
   "execution_count": 208,
   "metadata": {},
   "outputs": [
    {
     "name": "stdout",
     "output_type": "stream",
     "text": [
      "Cross Validation Score: 0.8536134453781511\n",
      "Training Score: 0.8947368421052632\n",
      "Testing Score: 0.8793103448275862\n"
     ]
    }
   ],
   "source": [
    "# MultinomialNB\n",
    "mnb = MultinomialNB()\n",
    "mnb.fit(Z_train, y_train)\n",
    "\n",
    "# This is how we evaluate model performance\n",
    "print(f'Cross Validation Score: {cross_val_score(MultinomialNB(), Z_train, y_train, cv=5).mean()}')\n",
    "\n",
    "print(f'Training Score: {mnb.score(Z_train, y_train)}')\n",
    "print(f'Testing Score: {mnb.score(Z_test, y_test)}')"
   ]
  },
  {
   "cell_type": "code",
   "execution_count": 174,
   "metadata": {},
   "outputs": [
    {
     "data": {
      "text/plain": [
       "1    0.541485\n",
       "0    0.458515\n",
       "Name: flood_in_image, dtype: float64"
      ]
     },
     "execution_count": 174,
     "metadata": {},
     "output_type": "execute_result"
    }
   ],
   "source": [
    "# Baseline\n",
    "df.flood_in_image.value_counts(normalize=True)"
   ]
  },
  {
   "cell_type": "code",
   "execution_count": 175,
   "metadata": {},
   "outputs": [
    {
     "data": {
      "text/plain": [
       "array([0, 0, 0, 1, 0, 0, 0, 1, 0, 1, 1, 1, 1, 0, 0, 1, 0, 1, 1, 1, 0, 0,\n",
       "       1, 1, 0, 0, 1, 0, 1, 0, 0, 0, 0, 1, 0, 1, 1, 0, 1, 0, 1, 1, 0, 1,\n",
       "       1, 0, 0, 0, 0, 0, 1, 1, 1, 1, 0, 0, 0, 0])"
      ]
     },
     "execution_count": 175,
     "metadata": {},
     "output_type": "execute_result"
    }
   ],
   "source": [
    "# Predictions\n",
    "y_pred = mnb.predict(Z_test)\n",
    "y_pred"
   ]
  },
  {
   "cell_type": "code",
   "execution_count": 176,
   "metadata": {},
   "outputs": [
    {
     "data": {
      "image/png": "[encoded data removed]",
      "text/plain": [
       "<Figure size 432x288 with 2 Axes>"
      ]
     },
     "metadata": {
      "needs_background": "light"
     },
     "output_type": "display_data"
    }
   ],
   "source": [
    "from sklearn.metrics import confusion_matrix, plot_confusion_matrix\n",
    "import matplotlib.pyplot as plt\n",
    "\n",
    "# Confusion Matrix\n",
    "tn, fp, fn, tp = confusion_matrix(y_test, y_pred).ravel()\n",
    "\n",
    "# Plot\n",
    "plot_confusion_matrix(logreg, Z_test, y_test, cmap='Oranges', values_format='d');\n",
    "plt.xlabel('Predicted: True or False - Car is flooded')\n",
    "plt.ylabel('Actual: True or False - Car is flooded');"
   ]
  },
  {
   "cell_type": "code",
   "execution_count": 177,
   "metadata": {},
   "outputs": [
    {
     "name": "stdout",
     "output_type": "stream",
     "text": [
      "-----------------False------------------\n",
      "(0,0) True Negative - 26\n",
      "(0,1) False Positive - 1\n",
      "------------------True------------------\n",
      "(1,0) False Negative - 6\n",
      "(1,1) True Positive - 25\n"
     ]
    }
   ],
   "source": [
    "# FOR VERIFICATION AND INTERPRETABILITY OF ABOVE\n",
    "print('False'.center(40, \"-\"))\n",
    "print(f'(0,0) True Negative - {tn}')\n",
    "print(f'(0,1) False Positive - {fp}')\n",
    "print('True'.center(40, \"-\"))\n",
    "print(f'(1,0) False Negative - {fn}')\n",
    "print(f'(1,1) True Positive - {tp}')"
   ]
  },
  {
   "cell_type": "code",
   "execution_count": 178,
   "metadata": {},
   "outputs": [
    {
     "name": "stdout",
     "output_type": "stream",
     "text": [
      "Model Predicted Score: 0.8793103448275862\n",
      "\n",
      "Specificity: 0.9629629629629629 - (0) Correctly Predicted NO FLOODING / ALL NO FlOODING images\n",
      "\n",
      "Sensitivity: 0.8064516129032258 - (1) Correctly Predicted FLOODING / ALL FlOODING images\n",
      "\n",
      "Precision: 0.9615384615384616 - (1) Correctly Predicted FLOODING / ALL FlOODING predictions\n"
     ]
    }
   ],
   "source": [
    "# Model Prediction\n",
    "print(f'Model Predicted Score: {(tn + tp) / (tn + tp + fn + fp)}')\n",
    "print()\n",
    "\n",
    "# Calculate the specificity\n",
    "spec = tn / (tn + fp)\n",
    "print(f'Specificity: {spec} - (0) Correctly Predicted NO FLOODING / ALL NO FlOODING images')\n",
    "print()\n",
    "\n",
    "# Sensitivity\n",
    "sens = tp / (tp + fn)\n",
    "print(F'Sensitivity: {sens} - (1) Correctly Predicted FLOODING / ALL FlOODING images')\n",
    "print()\n",
    "\n",
    "# Precision\n",
    "prec = tp / (tp + fp)\n",
    "print(f'Precision: {prec} - (1) Correctly Predicted FLOODING / ALL FlOODING predictions')\n"
   ]
  },
  {
   "cell_type": "code",
   "execution_count": null,
   "metadata": {},
   "outputs": [],
   "source": []
  },
  {
   "cell_type": "code",
   "execution_count": null,
   "metadata": {},
   "outputs": [],
   "source": []
  },
  {
   "cell_type": "code",
   "execution_count": null,
   "metadata": {},
   "outputs": [],
   "source": []
  },
  {
   "cell_type": "code",
   "execution_count": 209,
   "metadata": {},
   "outputs": [],
   "source": [
    "# # Set Up Pipes\n",
    "# lr_pipe = Pipeline([\n",
    "#     ('cv', CountVectorizer()),\n",
    "#     ('logreg', LogisticRegression(solver='liblinear', random_state=2020)),\n",
    "# ])\n",
    "\n",
    "# mnb_pipe = Pipeline([\n",
    "#     ('cv', CountVectorizer()),\n",
    "#     ('mnb', MultinomialNB()),\n",
    "# ])\n",
    "# svc_pipe = Pipeline([\n",
    "#     ('cv', CountVectorizer()),\n",
    "#     ('svc', LinearSVC(random_state=2020)),\n",
    "# ])"
   ]
  },
  {
   "cell_type": "code",
   "execution_count": 210,
   "metadata": {},
   "outputs": [],
   "source": [
    "# # Set Up Params\n",
    "# lr_pipe.get_params()\n",
    "# lr_pipe_params = {\n",
    "#     'cv__max_df': [1.0],\n",
    "#     'cv__max_features': [None],\n",
    "#     'cv__min_df': [1],\n",
    "#     'cv__ngram_range': [(1, 1)],\n",
    "#     'logreg__C': [1.0],\n",
    "#     'logreg__class_weight': [None],\n",
    "#     'logreg__max_iter': [100],\n",
    "# #     'logreg__solver': ['lbfgs'],  \n",
    "# }\n",
    "\n",
    "# mnb_pipe.get_params()\n",
    "# mnb_pipe_params = {\n",
    "#     'cv__max_df': [1.0],\n",
    "#     'cv__max_features': [None],\n",
    "#     'cv__min_df': [1],\n",
    "#     'cv__ngram_range': [(1, 1)],\n",
    "#     'mnb__alpha': [1.0, 0.1, 0.01, .0001],\n",
    "# }\n",
    "\n",
    "# svc_pipe.get_params()\n",
    "# svc_pipe_params = {\n",
    "#     'cv__max_df': [1.0],\n",
    "#     'cv__max_features': [None],\n",
    "#     'cv__min_df': [1],\n",
    "#     'cv__ngram_range': [(1, 1)],\n",
    "#     'svc__C': [1.0],\n",
    "#     'svc__class_weight': [None],\n",
    "# }"
   ]
  },
  {
   "cell_type": "code",
   "execution_count": 211,
   "metadata": {},
   "outputs": [],
   "source": [
    "# # gridsearch\n",
    "# # gs_lr = GridSearchCV(lr_pipe, lr_pipe_params, n_jobs = -1, cv = 5, verbose = 2)\n",
    "# # gs_lr.fit(X_train, y_train)\n",
    "\n",
    "# gs_mnb = GridSearchCV(mnb_pipe, mnb_pipe_params, n_jobs = -1, cv = 5, verbose = 2)\n",
    "# gs_mnb.fit(X_train, y_train)\n",
    "\n",
    "# # gs_svc = GridSearchCV(svc_pipe, svc_pipe_params, n_jobs = -1, cv = 5, verbose = 2)\n",
    "# # gs_svc.fit(X_train, y_train)"
   ]
  }
 ],
 "metadata": {
  "kernelspec": {
   "display_name": "Python 3",
   "language": "python",
   "name": "python3"
  },
  "language_info": {
   "codemirror_mode": {
    "name": "ipython",
    "version": 3
   },
   "file_extension": ".py",
   "mimetype": "text/x-python",
   "name": "python",
   "nbconvert_exporter": "python",
   "pygments_lexer": "ipython3",
   "version": "3.6.10"
  }
 },
 "nbformat": 4,
 "nbformat_minor": 4
}
