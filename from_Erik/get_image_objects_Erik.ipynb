{
 "cells": [
  {
   "cell_type": "markdown",
   "metadata": {},
   "source": [
    "# Getting Object and Boundaries from Images"
   ]
  },
  {
   "cell_type": "markdown",
   "metadata": {},
   "source": [
    "##### INSTALLED"
   ]
  },
  {
   "cell_type": "code",
   "execution_count": 2,
   "metadata": {},
   "outputs": [],
   "source": [
    "# pip install --upgrade google-cloud-vision\n",
    "#pip install opencv-python"
   ]
  },
  {
   "cell_type": "code",
   "execution_count": 3,
   "metadata": {},
   "outputs": [],
   "source": [
    "import numpy as np\n",
    "import pandas as pd\n",
    "\n",
    "from sklearn.linear_model import LinearRegression, LogisticRegression\n",
    "from sklearn.feature_extraction.text import CountVectorizer, TfidfVectorizer\n",
    "from sklearn.pipeline import Pipeline\n",
    "from sklearn.model_selection import train_test_split, cross_val_score, GridSearchCV\n",
    "\n",
    "#import OpenCV to annotate images with shapes\n",
    "import cv2\n",
    "\n",
    "# google cloud SDK\n",
    "import io\n",
    "import os\n",
    "\n",
    "# Imports the Google Cloud client library\n",
    "from google.cloud import vision\n",
    "from google.cloud.vision import types"
   ]
  },
  {
   "cell_type": "code",
   "execution_count": 4,
   "metadata": {},
   "outputs": [],
   "source": [
    "# Code Reference From: https://github.com/googleapis/google-cloud-python/issues/5349\n",
    "# need this in order to access API - enter your JSON file in the path after you have created your service account\n",
    "\n",
    "from google.oauth2 import service_account\n",
    "credentials = service_account.Credentials. from_service_account_file(\"C:/Users/Erik/Desktop/flood_project/flooddepths-0158d30f7869.json\")"
   ]
  },
  {
   "cell_type": "markdown",
   "metadata": {},
   "source": [
    "### List of Images"
   ]
  },
  {
   "cell_type": "code",
   "execution_count": 5,
   "metadata": {},
   "outputs": [],
   "source": [
    "# a list of all of my picture filenames that have floods & cars\n",
    "# with help from https://stackoverflow.com/questions/3207219/how-do-i-list-all-files-of-a-directory\n",
    "\n",
    "flood_list = [f for f in os.listdir(\"C:/Users/Erik/Desktop/flood_project/images/flood/\") if os.path.isfile(os.path.join(\"C:/Users/Erik/Desktop/flood_project/images/flood/\", f))]"
   ]
  },
  {
   "cell_type": "code",
   "execution_count": 6,
   "metadata": {},
   "outputs": [],
   "source": [
    "# a list of all of my picture filenames that have cars (no floods)\n",
    "no_flood_list = [f for f in os.listdir(\"C:/Users/Erik/Desktop/flood_project/images/no_flood/\") if os.path.isfile(os.path.join(\"C:/Users/Erik/Desktop/flood_project/images/no_flood/\", f))]"
   ]
  },
  {
   "cell_type": "code",
   "execution_count": 7,
   "metadata": {
    "collapsed": true,
    "jupyter": {
     "outputs_hidden": true
    }
   },
   "outputs": [
    {
     "data": {
      "text/plain": [
       "['flooded_ (1).jpg',\n",
       " 'flooded_ (10).jpg',\n",
       " 'flooded_ (100).jpg',\n",
       " 'flooded_ (101).jpg',\n",
       " 'flooded_ (102).jpg',\n",
       " 'flooded_ (103).jpg',\n",
       " 'flooded_ (104).jpg',\n",
       " 'flooded_ (105).jpg',\n",
       " 'flooded_ (106).jpg',\n",
       " 'flooded_ (107).jpg',\n",
       " 'flooded_ (108).jpg',\n",
       " 'flooded_ (109).jpg',\n",
       " 'flooded_ (11).jpg',\n",
       " 'flooded_ (12).jpg',\n",
       " 'flooded_ (13).jpg',\n",
       " 'flooded_ (14).jpg',\n",
       " 'flooded_ (15).jpg',\n",
       " 'flooded_ (16).jpg',\n",
       " 'flooded_ (17).jpg',\n",
       " 'flooded_ (18).jpg',\n",
       " 'flooded_ (19).jpg',\n",
       " 'flooded_ (2).jpg',\n",
       " 'flooded_ (20).jpg',\n",
       " 'flooded_ (21).jpg',\n",
       " 'flooded_ (22).jpg',\n",
       " 'flooded_ (23).jpg',\n",
       " 'flooded_ (24).jpg',\n",
       " 'flooded_ (25).jpg',\n",
       " 'flooded_ (26).jpg',\n",
       " 'flooded_ (27).jpg',\n",
       " 'flooded_ (28).jpg',\n",
       " 'flooded_ (29).jpg',\n",
       " 'flooded_ (3).jpg',\n",
       " 'flooded_ (30).jpg',\n",
       " 'flooded_ (31).jpg',\n",
       " 'flooded_ (32).jpg',\n",
       " 'flooded_ (33).jpg',\n",
       " 'flooded_ (34).jpg',\n",
       " 'flooded_ (35).jpg',\n",
       " 'flooded_ (36).jpg',\n",
       " 'flooded_ (37).jpg',\n",
       " 'flooded_ (38).jpg',\n",
       " 'flooded_ (39).jpg',\n",
       " 'flooded_ (4).jpg',\n",
       " 'flooded_ (40).jpg',\n",
       " 'flooded_ (41).jpg',\n",
       " 'flooded_ (42).jpg',\n",
       " 'flooded_ (43).jpg',\n",
       " 'flooded_ (44).jpg',\n",
       " 'flooded_ (45).jpg',\n",
       " 'flooded_ (46).jpg',\n",
       " 'flooded_ (47).jpg',\n",
       " 'flooded_ (48).jpg',\n",
       " 'flooded_ (49).jpg',\n",
       " 'flooded_ (5).jpg',\n",
       " 'flooded_ (50).jpg',\n",
       " 'flooded_ (51).jpg',\n",
       " 'flooded_ (52).jpg',\n",
       " 'flooded_ (53).jpg',\n",
       " 'flooded_ (54).jpg',\n",
       " 'flooded_ (55).jpg',\n",
       " 'flooded_ (56).jpg',\n",
       " 'flooded_ (58).jpg',\n",
       " 'flooded_ (59).jpg',\n",
       " 'flooded_ (6).jpg',\n",
       " 'flooded_ (60).jpg',\n",
       " 'flooded_ (61).jpg',\n",
       " 'flooded_ (62).jpg',\n",
       " 'flooded_ (63).jpg',\n",
       " 'flooded_ (64).jpg',\n",
       " 'flooded_ (65).jpg',\n",
       " 'flooded_ (66).jpg',\n",
       " 'flooded_ (67).jpg',\n",
       " 'flooded_ (68).jpg',\n",
       " 'flooded_ (69).jpg',\n",
       " 'flooded_ (7).jpg',\n",
       " 'flooded_ (70).jpg',\n",
       " 'flooded_ (71).jpg',\n",
       " 'flooded_ (72).jpg',\n",
       " 'flooded_ (73).jpg',\n",
       " 'flooded_ (74).jpg',\n",
       " 'flooded_ (75).jpg',\n",
       " 'flooded_ (76).jpg',\n",
       " 'flooded_ (77).jpg',\n",
       " 'flooded_ (78).jpg',\n",
       " 'flooded_ (79).jpg',\n",
       " 'flooded_ (8).jpg',\n",
       " 'flooded_ (80).jpg',\n",
       " 'flooded_ (81).jpg',\n",
       " 'flooded_ (82).jpg',\n",
       " 'flooded_ (83).jpg',\n",
       " 'flooded_ (84).jpg',\n",
       " 'flooded_ (85).jpg',\n",
       " 'flooded_ (86).jpg',\n",
       " 'flooded_ (87).jpg',\n",
       " 'flooded_ (88).jpg',\n",
       " 'flooded_ (89).jpg',\n",
       " 'flooded_ (9).jpg',\n",
       " 'flooded_ (90).jpg',\n",
       " 'flooded_ (91).jpg',\n",
       " 'flooded_ (92).jpg',\n",
       " 'flooded_ (93).jpg',\n",
       " 'flooded_ (94).jpg',\n",
       " 'flooded_ (95).jpg',\n",
       " 'flooded_ (96).jpg',\n",
       " 'flooded_ (97).jpg',\n",
       " 'flooded_ (98).jpg',\n",
       " 'flooded_ (99).jpg']"
      ]
     },
     "execution_count": 7,
     "metadata": {},
     "output_type": "execute_result"
    }
   ],
   "source": [
    "flood_list"
   ]
  },
  {
   "cell_type": "code",
   "execution_count": 8,
   "metadata": {},
   "outputs": [],
   "source": [
    "#Test set of images\n",
    "test_flood_images = ['flooded_ (11).jpg','flooded_ (26).jpg']"
   ]
  },
  {
   "cell_type": "code",
   "execution_count": 9,
   "metadata": {},
   "outputs": [],
   "source": [
    "objects_to_crop_around = ['Car','Van','Truck','Boat','Toy vehicle']"
   ]
  },
  {
   "cell_type": "markdown",
   "metadata": {},
   "source": [
    "## Function to get the objects and their boundaries"
   ]
  },
  {
   "cell_type": "code",
   "execution_count": 12,
   "metadata": {},
   "outputs": [],
   "source": [
    "# Just gets the objects and their boundaries.\n",
    "def determine_objects_boundary(file_list, string__no_flood_OR_flood):\n",
    "    \n",
    "    file_dict = {}\n",
    "    object_dict = {}\n",
    "    \n",
    "    #looping though each image in the list submitted to the function\n",
    "    for file in file_list:\n",
    "    \n",
    "        #need to have google vision credentials saved to credentials\n",
    "        client = vision.ImageAnnotatorClient(credentials=credentials)\n",
    "\n",
    "        # path to the images that need to be cropped\n",
    "        with open('C:/Users/Erik/Desktop/flood_project/images/' + string__no_flood_OR_flood + '/' + file, 'rb') as image_file:\n",
    "            content = image_file.read()\n",
    "        image = vision.types.Image(content=content)\n",
    "        \n",
    "        #same path just using OpenCV to get image shape\n",
    "        im_cv2 = cv2.imread('C:/Users/Erik/Desktop/flood_project/images/' + string__no_flood_OR_flood + '/' + file)\n",
    "        height, width, color = im_cv2.shape\n",
    "\n",
    "        #Using Google vision to actually find objects in the image\n",
    "        objects = client.object_localization(image=image).localized_object_annotations\n",
    "        \n",
    "        object_list = []\n",
    "        \n",
    "        #for each object in the image, find the 4 corners of the bounding rectangle and save them in a dict\n",
    "        for object_ in objects:\n",
    "            vertex_dict = {}\n",
    "\n",
    "            #need to make sure the normalized vertex are multipled by the corresponding image distance so the vertex are in pixels counts\n",
    "            for index,vertex in enumerate(object_.bounding_poly.normalized_vertices):\n",
    "                vertex_dict[f'vertex_{index}'] = [int(width*vertex.x),int(height*vertex.y)]\n",
    "            object_dict[object_.name] = vertex_dict\n",
    "            \n",
    "        file_dict[file] = object_dict\n",
    "            \n",
    "    return file_dict"
   ]
  },
  {
   "cell_type": "code",
   "execution_count": 14,
   "metadata": {},
   "outputs": [],
   "source": [
    "test_image = determine_objects_boundary(test_flood_images, 'flood')"
   ]
  },
  {
   "cell_type": "code",
   "execution_count": 15,
   "metadata": {},
   "outputs": [
    {
     "data": {
      "text/plain": [
       "{'Truck': {'vertex_0': [247, 111],\n",
       "  'vertex_1': [421, 111],\n",
       "  'vertex_2': [421, 165],\n",
       "  'vertex_3': [247, 165]},\n",
       " 'Car': {'vertex_0': [33, 163],\n",
       "  'vertex_1': [312, 163],\n",
       "  'vertex_2': [312, 254],\n",
       "  'vertex_3': [33, 254]}}"
      ]
     },
     "execution_count": 15,
     "metadata": {},
     "output_type": "execute_result"
    }
   ],
   "source": [
    "test_image['flooded_ (11).jpg']"
   ]
  },
  {
   "cell_type": "markdown",
   "metadata": {},
   "source": [
    "## Cropping images to use in NN"
   ]
  },
  {
   "cell_type": "code",
   "execution_count": 42,
   "metadata": {},
   "outputs": [],
   "source": [
    "def crop_flooded_objects_boundary(file_list):\n",
    "    \n",
    "    file_dict = {}\n",
    "    object_dict = {}\n",
    "    \n",
    "    # creating a tenth and cycle counter to output progress of function\n",
    "    tenth_counter = 0\n",
    "    cycle_counter = 1\n",
    "    \n",
    "    #looping though each image in the list submitted to the function\n",
    "    for file in file_list:\n",
    "    \n",
    "        #need to have google vision credentials saved to credentials\n",
    "        client = vision.ImageAnnotatorClient(credentials=credentials)\n",
    "\n",
    "        # path to the images that need to be cropped\n",
    "        with open('C:/Users/Erik/Desktop/flood_project/images/flood/' + file, 'rb') as image_file:\n",
    "            content = image_file.read()\n",
    "        image = vision.types.Image(content=content)\n",
    "        \n",
    "        #same path just using OpenCV to get image shape and will use to save the cropped images later\n",
    "        im_cv2 = cv2.imread('C:/Users/Erik/Desktop/flood_project/images/flood/' + file)\n",
    "        height, width, color = im_cv2.shape\n",
    "\n",
    "        #Using Google vision to actually find objects in the image\n",
    "        objects = client.object_localization(image=image).localized_object_annotations\n",
    "        \n",
    "        object_list = []\n",
    "        \n",
    "        tenth_counter += 1\n",
    "        \n",
    "        # printing out the fraction of the images done to keep track of function progress\n",
    "        if int(round(len(flood_list),-1)/10) <= tenth_counter:\n",
    "            print(f'{cycle_counter}/10 done')\n",
    "            cycle_counter += 1\n",
    "            tenth_counter = 1\n",
    "        \n",
    "        # creating an item counter to allow the cropping and the saving of multiple same objects from one photo\n",
    "        item_counter = 1\n",
    "        \n",
    "        #looping through each of the objects Google vision found in the image\n",
    "        for object_ in objects:\n",
    "            # ignoring all objects that don't have to do with the cars in the image\n",
    "            if object_.name in objects_to_crop_around:\n",
    "                vertex_dict = {}\n",
    "\n",
    "                #need to make sure the normalized vertex are multipled by the corresponding image distance so the vertex are in pixels counts\n",
    "                for index,vertex in enumerate(object_.bounding_poly.normalized_vertices):\n",
    "                    vertex_dict[f'vertex_{index}'] = [int(width*vertex.x),int(height*vertex.y)]\n",
    "                object_dict[object_.name] = vertex_dict\n",
    "            \n",
    "                # Cropping the image around the vertices of the object\n",
    "                \n",
    "                # https://www.life2coding.com/cropping-polygon-or-non-rectangular-region-from-image-using-opencv-python/\n",
    "                # https://stackoverflow.com/questions/48301186/cropping-concave-polygon-from-image-using-opencv-python\n",
    "                \n",
    "                mask = np.zeros(im_cv2.shape[:2], np.uint8)\n",
    "                points = np.array([object_dict[object_.name]['vertex_0'],\n",
    "                                   object_dict[object_.name]['vertex_1'],\n",
    "                                   object_dict[object_.name]['vertex_2'],\n",
    "                                   object_dict[object_.name]['vertex_3']])\n",
    "            \n",
    "                #creating the bounding rectangle from the object vertices\n",
    "                rect = cv2.boundingRect(points)\n",
    "                x,y,w,h = rect\n",
    "                \n",
    "                # cropping the image using OpenCV and the dimentions of the bounding rectangle\n",
    "                cropped = im_cv2[y:y+h, x:x+w].copy()\n",
    "            \n",
    "                #savig the cropped image using OpenCV. Image name has cropped_(object)_ added to the front\n",
    "                cv2.imwrite('C:/Users/Erik/Desktop/flood_project/images/cropped_flood/cropped_' + object_.name + str(item_counter) + '_' + file, cropped)\n",
    "                \n",
    "        file_dict[file] = object_dict\n",
    "        \n",
    "    return file_dict"
   ]
  },
  {
   "cell_type": "code",
   "execution_count": 27,
   "metadata": {},
   "outputs": [],
   "source": [
    "#crop_flooded_objects_boundary(test_flood_images);"
   ]
  },
  {
   "cell_type": "code",
   "execution_count": 58,
   "metadata": {},
   "outputs": [
    {
     "name": "stdout",
     "output_type": "stream",
     "text": [
      "1/10 done\n"
     ]
    }
   ],
   "source": [
    "#cropping all imaged in the flood_list. Run with a semi colon to suppress the dictionary from showing upon completion\n",
    "crop_flooded_objects_boundary(flood_list);"
   ]
  },
  {
   "cell_type": "code",
   "execution_count": null,
   "metadata": {},
   "outputs": [],
   "source": []
  }
 ],
 "metadata": {
  "kernelspec": {
   "display_name": "Python 3",
   "language": "python",
   "name": "python3"
  },
  "language_info": {
   "codemirror_mode": {
    "name": "ipython",
    "version": 3
   },
   "file_extension": ".py",
   "mimetype": "text/x-python",
   "name": "python",
   "nbconvert_exporter": "python",
   "pygments_lexer": "ipython3",
   "version": "3.7.7"
  }
 },
 "nbformat": 4,
 "nbformat_minor": 4
}
